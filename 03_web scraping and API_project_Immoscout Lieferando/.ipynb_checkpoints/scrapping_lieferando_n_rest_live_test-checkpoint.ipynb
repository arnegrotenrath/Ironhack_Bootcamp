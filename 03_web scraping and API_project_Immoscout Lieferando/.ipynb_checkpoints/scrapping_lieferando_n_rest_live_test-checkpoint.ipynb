{
 "cells": [
  {
   "cell_type": "code",
   "execution_count": 1,
   "metadata": {
    "ExecuteTime": {
     "end_time": "2020-01-24T09:46:36.402089Z",
     "start_time": "2020-01-24T09:46:36.347723Z"
    }
   },
   "outputs": [],
   "source": [
    "%reset -f"
   ]
  },
  {
   "cell_type": "code",
   "execution_count": 2,
   "metadata": {
    "ExecuteTime": {
     "end_time": "2020-01-24T09:46:38.302080Z",
     "start_time": "2020-01-24T09:46:36.406682Z"
    }
   },
   "outputs": [],
   "source": [
    "import pandas as pd\n",
    "from library import lieferando as lf"
   ]
  },
  {
   "cell_type": "code",
   "execution_count": 3,
   "metadata": {
    "ExecuteTime": {
     "end_time": "2020-01-24T09:46:38.388745Z",
     "start_time": "2020-01-24T09:46:38.306044Z"
    }
   },
   "outputs": [],
   "source": [
    "df_real_estate = pd.read_csv(\"20200123_apts_buy_berlin_v0.4_CB.csv\", sep=\";\")  # doctest: +SKIP"
   ]
  },
  {
   "cell_type": "code",
   "execution_count": 4,
   "metadata": {
    "ExecuteTime": {
     "end_time": "2020-01-24T09:46:38.412976Z",
     "start_time": "2020-01-24T09:46:38.394158Z"
    }
   },
   "outputs": [],
   "source": [
    "df_postcode = df_real_estate.drop_duplicates(subset=\"postcode\") "
   ]
  },
  {
   "cell_type": "code",
   "execution_count": 5,
   "metadata": {
    "ExecuteTime": {
     "end_time": "2020-01-24T09:46:38.444245Z",
     "start_time": "2020-01-24T09:46:38.418020Z"
    }
   },
   "outputs": [
    {
     "data": {
      "text/plain": [
       "189"
      ]
     },
     "execution_count": 5,
     "metadata": {},
     "output_type": "execute_result"
    }
   ],
   "source": [
    "len(df_postcode)"
   ]
  },
  {
   "cell_type": "markdown",
   "metadata": {},
   "source": [
    "## Scrapping Amount of Restaurants per Postcode"
   ]
  },
  {
   "cell_type": "code",
   "execution_count": null,
   "metadata": {
    "ExecuteTime": {
     "start_time": "2020-01-24T09:46:36.390Z"
    }
   },
   "outputs": [
    {
     "name": "stderr",
     "output_type": "stream",
     "text": [
      "C:\\Users\\Work\\Anaconda3\\envs\\code_red\\lib\\site-packages\\selenium\\webdriver\\phantomjs\\webdriver.py:49: UserWarning: Selenium support for PhantomJS has been deprecated, please use headless versions of Chrome or Firefox instead\n",
      "  warnings.warn('Selenium support for PhantomJS has been deprecated, please use headless '\n"
     ]
    },
    {
     "name": "stdout",
     "output_type": "stream",
     "text": [
      "189\n"
     ]
    }
   ],
   "source": [
    "df_n_restaurant = lf.get_n_restaurant(list(df_postcode[\"postcode\"]))"
   ]
  },
  {
   "cell_type": "code",
   "execution_count": null,
   "metadata": {
    "ExecuteTime": {
     "start_time": "2020-01-24T09:46:36.394Z"
    }
   },
   "outputs": [],
   "source": [
    "df_n_restaurant.head(200)"
   ]
  },
  {
   "cell_type": "code",
   "execution_count": null,
   "metadata": {
    "ExecuteTime": {
     "start_time": "2020-01-24T09:46:36.398Z"
    }
   },
   "outputs": [],
   "source": [
    "df_n_restaurant.to_csv(\"n_restaurant.csv\")"
   ]
  },
  {
   "cell_type": "code",
   "execution_count": null,
   "metadata": {},
   "outputs": [],
   "source": []
  }
 ],
 "metadata": {
  "file_extension": ".py",
  "kernelspec": {
   "display_name": "Python 3",
   "language": "python",
   "name": "python3"
  },
  "language_info": {
   "codemirror_mode": {
    "name": "ipython",
    "version": 3
   },
   "file_extension": ".py",
   "mimetype": "text/x-python",
   "name": "python",
   "nbconvert_exporter": "python",
   "pygments_lexer": "ipython3",
   "version": "3.7.5"
  },
  "mimetype": "text/x-python",
  "name": "python",
  "npconvert_exporter": "python",
  "pygments_lexer": "ipython3",
  "version": 3
 },
 "nbformat": 4,
 "nbformat_minor": 2
}
