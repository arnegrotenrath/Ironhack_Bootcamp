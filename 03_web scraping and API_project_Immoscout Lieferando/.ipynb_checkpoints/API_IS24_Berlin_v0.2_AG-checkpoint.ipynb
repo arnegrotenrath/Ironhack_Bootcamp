{
 "cells": [
  {
   "cell_type": "markdown",
   "metadata": {},
   "source": [
    "<img src=\"https://api.immobilienscout24.de/content/dam/is24/images/api/api-logo-immobilienscout24_250x50_font_blau.png\" alt=\"In Zusammenarbeit mit Immobilienscout24.de\">"
   ]
  },
  {
   "cell_type": "markdown",
   "metadata": {},
   "source": [
    "# Crawl real estate data from Immobilienscout24.de\n",
    "\n",
    "Notes\n",
    "* The SEARCH API will be used\n",
    "* API permission was granted because data will be used for a student project\n",
    "\n",
    "\n",
    "*API Documentation: https://api.immobilienscout24.de/*"
   ]
  },
  {
   "cell_type": "markdown",
   "metadata": {},
   "source": [
    "## Setup"
   ]
  },
  {
   "cell_type": "code",
   "execution_count": 1,
   "metadata": {},
   "outputs": [
    {
     "name": "stdout",
     "output_type": "stream",
     "text": [
      "········\n"
     ]
    }
   ],
   "source": [
    "import pandas as pd\n",
    "import numpy as np\n",
    "from xml.etree import ElementTree\n",
    "import getpass\n",
    "\n",
    "import requests\n",
    "from requests_oauthlib import OAuth1\n",
    "\n",
    "# define path where output file should be exported to\n",
    "#CB: \n",
    "#path_op = '/Users/cbineyti/Library/Mobile Documents/com~apple~CloudDocs/Docs/40_DataScience/80_Ironhack/30_Testing/IS24/'\n",
    "\n",
    "# auth information obtained from IS24\n",
    "client_key = 'immokb24_contentKey'\n",
    "client_secret = getpass.getpass() \n",
    "\n",
    "base_url = 'https://rest.immobilienscout24.de/restapi/api/search/v1.0/search/region'\n",
    "\n",
    "auth = OAuth1(client_key, client_secret)  # , 'USER_OAUTH_TOKEN', 'USER_OAUTH_TOKEN_SECRET')\n"
   ]
  },
  {
   "cell_type": "markdown",
   "metadata": {},
   "source": [
    "Notebook display settings:"
   ]
  },
  {
   "cell_type": "code",
   "execution_count": 2,
   "metadata": {},
   "outputs": [],
   "source": [
    "pd.options.display.max_columns = None\n",
    "pd.options.display.max_rows = 7000\n",
    "pd.options.display.max_colwidth = 200"
   ]
  },
  {
   "cell_type": "markdown",
   "metadata": {},
   "source": [
    "## Set parameters for different requests "
   ]
  },
  {
   "cell_type": "code",
   "execution_count": 3,
   "metadata": {},
   "outputs": [],
   "source": [
    "# real estate objects to buy IN GERMANY\n",
    "params_de = { \n",
    "    'realestatetype':'apartmentbuy', \n",
    "    'geocodes': 1276\n",
    "}\n",
    "\n",
    "# real estate objects to buy IN ESSEN\n",
    "params_essen = {\n",
    "    'realestatetype':'apartmentbuy', \n",
    "    'geocodes': 1276010015\n",
    "}\n",
    "\n",
    "# ... Berlin\n",
    "params_bln = {\n",
    "    'realestatetype':'apartmentbuy', \n",
    "    'geocodes': 1276003001\n",
    "}\n",
    "\n",
    "params_ham = {\n",
    "    'realestatetype':'apartmentbuy', \n",
    "    'geocodes': 1276006001 \n",
    "}\n"
   ]
  },
  {
   "cell_type": "markdown",
   "metadata": {},
   "source": [
    "## Execute requests"
   ]
  },
  {
   "cell_type": "code",
   "execution_count": 4,
   "metadata": {},
   "outputs": [],
   "source": [
    "# Germany\n",
    "resp_de = requests.get(base_url, auth=auth, params=params_de)"
   ]
  },
  {
   "cell_type": "code",
   "execution_count": 5,
   "metadata": {},
   "outputs": [],
   "source": [
    "# Essen\n",
    "resp_essen = requests.get(base_url, auth=auth, params=params_essen)"
   ]
  },
  {
   "cell_type": "code",
   "execution_count": 6,
   "metadata": {},
   "outputs": [],
   "source": [
    "# Berlin\n",
    "resp_bln = requests.get(base_url, auth=auth, params=params_bln)"
   ]
  },
  {
   "cell_type": "code",
   "execution_count": 7,
   "metadata": {},
   "outputs": [],
   "source": [
    "# Hamburg\n",
    "resp_ham = requests.get(base_url, auth=auth, params=params_ham)"
   ]
  },
  {
   "cell_type": "code",
   "execution_count": 8,
   "metadata": {},
   "outputs": [],
   "source": [
    "#print(resp_de.text)"
   ]
  },
  {
   "cell_type": "code",
   "execution_count": 9,
   "metadata": {},
   "outputs": [],
   "source": [
    "#print(resp_essen.text)"
   ]
  },
  {
   "cell_type": "code",
   "execution_count": 10,
   "metadata": {
    "scrolled": true
   },
   "outputs": [],
   "source": [
    "#print(resp_bln.text)"
   ]
  },
  {
   "cell_type": "markdown",
   "metadata": {},
   "source": [
    "# Read XML into Dataframe"
   ]
  },
  {
   "cell_type": "markdown",
   "metadata": {},
   "source": [
    "#### Read XML output into Element Tree root"
   ]
  },
  {
   "cell_type": "code",
   "execution_count": 11,
   "metadata": {},
   "outputs": [],
   "source": [
    "root_de = ElementTree.fromstring(resp_de.content)"
   ]
  },
  {
   "cell_type": "code",
   "execution_count": 12,
   "metadata": {},
   "outputs": [],
   "source": [
    "root_essen = ElementTree.fromstring(resp_essen.content)"
   ]
  },
  {
   "cell_type": "markdown",
   "metadata": {},
   "source": [
    "# Extract information from one page"
   ]
  },
  {
   "cell_type": "markdown",
   "metadata": {},
   "source": [
    "#### Define function to get information from a root into a dictionary\n",
    "* Input: root\n",
    "* Output: dictionary"
   ]
  },
  {
   "cell_type": "markdown",
   "metadata": {},
   "source": [
    "### <font color=\"red\">USE YIELD / recursiv function</font>"
   ]
  },
  {
   "cell_type": "markdown",
   "metadata": {},
   "source": [
    "## <font color=\"Green\"><b> Export to Library.</b> </font>"
   ]
  },
  {
   "cell_type": "code",
   "execution_count": 13,
   "metadata": {},
   "outputs": [],
   "source": [
    "# Define function to get information from a root into a dictionary\n",
    "def get_xml_data(root):\n",
    "    \n",
    "    # define lists for each field that will be extracted\n",
    "    lst_realEstateId = []\n",
    "    lst_titles = []\n",
    "    lst_cities = []\n",
    "    lst_quarters = []\n",
    "    lst_prices = []\n",
    "    lst_livingSpace = []\n",
    "    lst_rooms = []\n",
    "    lst_num_pages = []\n",
    "\n",
    "    # loop through the real estate entries and save information into lists\n",
    "    for child in root[1]:\n",
    "        lst_realEstateId.append(child.find('realEstateId').text)\n",
    "        lst_titles.append(child[3].find('title').text)\n",
    "        lst_cities.append(child[3][1].find('city').text)\n",
    "        lst_quarters.append(child[3][1].find('quarter').text)\n",
    "        lst_prices.append(child[3].find('price')[0].text)\n",
    "        lst_livingSpace.append(child[3].find('livingSpace').text)\n",
    "        lst_rooms.append(child[3].find('numberOfRooms').text) \n",
    "        lst_num_pages.append(root[0].find('pageNumber').text)\n",
    "\n",
    "    # create dictionary from lists above\n",
    "    dict_lsts = {'id': lst_realEstateId,\n",
    "                 'title': lst_titles,\n",
    "                 'city': lst_cities,\n",
    "                 'quarter': lst_quarters,\n",
    "                 'price': lst_prices,\n",
    "                 'qm': lst_livingSpace,\n",
    "                 'n_room': lst_rooms,\n",
    "                 'n_page': lst_num_pages\n",
    "                }\n",
    "    \n",
    "    return dict_lsts"
   ]
  },
  {
   "cell_type": "markdown",
   "metadata": {},
   "source": [
    "#### Test the function `get_xml_data`"
   ]
  },
  {
   "cell_type": "code",
   "execution_count": 14,
   "metadata": {},
   "outputs": [],
   "source": [
    "df_essen = pd.DataFrame(get_xml_data(root_essen)).assign(is24_page=1)\n"
   ]
  },
  {
   "cell_type": "code",
   "execution_count": 15,
   "metadata": {},
   "outputs": [],
   "source": [
    "df_essen;"
   ]
  },
  {
   "cell_type": "markdown",
   "metadata": {},
   "source": [
    "#### Test the function in a loop"
   ]
  },
  {
   "cell_type": "code",
   "execution_count": 16,
   "metadata": {},
   "outputs": [],
   "source": [
    "for i in range(3):\n",
    "    df_essen = df_essen.append(pd.DataFrame(get_xml_data(root_essen)).assign(is24_page=i+2))"
   ]
  },
  {
   "cell_type": "code",
   "execution_count": 17,
   "metadata": {},
   "outputs": [],
   "source": [
    "df_essen.reset_index(drop=True);"
   ]
  },
  {
   "cell_type": "markdown",
   "metadata": {},
   "source": [
    "# Loop over all pages of the response (XML) "
   ]
  },
  {
   "cell_type": "markdown",
   "metadata": {},
   "source": [
    "Steps:\n",
    "\n",
    "* define a function that returns a dataframe based on a URL\n",
    "* define a function that returns the number of pages based on a URL\n",
    "* loop over all pages of an XML response and concatinate all output into one dataframe"
   ]
  },
  {
   "cell_type": "markdown",
   "metadata": {},
   "source": [
    "#### Function to get a dataframe based on a URL"
   ]
  },
  {
   "cell_type": "markdown",
   "metadata": {},
   "source": [
    "## <font color=\"Green\"><b> Export to Library.</b> </font>"
   ]
  },
  {
   "cell_type": "code",
   "execution_count": 18,
   "metadata": {},
   "outputs": [],
   "source": [
    "def df_from_url(url, params):  \n",
    "    # send the get request using global auth information and provided url and params\n",
    "    global auth\n",
    "    resp = requests.get(url, auth=auth, params=params)\n",
    "    \n",
    "    # get XML response into the root of an ElementTree\n",
    "    root = ElementTree.fromstring(resp.content)\n",
    "    \n",
    "    # call get_xml_data function to store information into a dataframe\n",
    "    df = pd.DataFrame(get_xml_data(root))\n",
    "    \n",
    "    return df\n"
   ]
  },
  {
   "cell_type": "markdown",
   "metadata": {},
   "source": [
    "#### Function to get the number of pages based on a URL"
   ]
  },
  {
   "cell_type": "markdown",
   "metadata": {},
   "source": [
    "## <font color=\"Green\"><b> Export to Library.</b> </font>"
   ]
  },
  {
   "cell_type": "code",
   "execution_count": 19,
   "metadata": {},
   "outputs": [],
   "source": [
    "def num_pages_from_url(url, params):  \n",
    "    \n",
    "    # send the get request using global auth information and provided url and params\n",
    "    global auth\n",
    "    resp = requests.get(url, auth=auth, params=params)\n",
    "    \n",
    "    # get XML response into the root of an ElementTree\n",
    "    root = ElementTree.fromstring(resp.content)\n",
    "    \n",
    "    # navigate to the number of pages and get the text\n",
    "    num_pages = int(root[0].find('numberOfPages').text)\n",
    "    \n",
    "    return num_pages\n"
   ]
  },
  {
   "cell_type": "markdown",
   "metadata": {},
   "source": [
    "#### Test `num_pages_from_url` function"
   ]
  },
  {
   "cell_type": "code",
   "execution_count": 20,
   "metadata": {},
   "outputs": [
    {
     "data": {
      "text/plain": [
       "2262"
      ]
     },
     "execution_count": 20,
     "metadata": {},
     "output_type": "execute_result"
    }
   ],
   "source": [
    "num_pages_de = num_pages_from_url(base_url, params_de)\n",
    "num_pages_de"
   ]
  },
  {
   "cell_type": "markdown",
   "metadata": {},
   "source": [
    "#### Test `df_from_url` function"
   ]
  },
  {
   "cell_type": "code",
   "execution_count": 21,
   "metadata": {},
   "outputs": [],
   "source": [
    "df_essen = df_from_url(base_url, params_essen)\n"
   ]
  },
  {
   "cell_type": "code",
   "execution_count": 22,
   "metadata": {},
   "outputs": [
    {
     "data": {
      "text/plain": [
       "{'realestatetype': 'apartmentbuy', 'geocodes': 1276010015}"
      ]
     },
     "execution_count": 22,
     "metadata": {},
     "output_type": "execute_result"
    }
   ],
   "source": [
    "params_essen"
   ]
  },
  {
   "cell_type": "code",
   "execution_count": 23,
   "metadata": {},
   "outputs": [],
   "source": [
    "df_essen;"
   ]
  },
  {
   "cell_type": "markdown",
   "metadata": {},
   "source": [
    "### Create `df_essen`\n",
    "\n",
    "#### Steps:\n",
    "\n",
    "* create `df_essen` with first page of response\n",
    "* loop over all other pages and append dataframe built from each page to the existing dataframe"
   ]
  },
  {
   "cell_type": "code",
   "execution_count": 24,
   "metadata": {},
   "outputs": [],
   "source": [
    "df_essen = df_from_url(base_url, params_essen)\n",
    "\n",
    "for i in range(2, num_pages_from_url(base_url, params_essen) + 1):\n",
    "    params_essen_loop = { \n",
    "        'realestatetype':'apartmentbuy', \n",
    "        'geocodes': 1276010015,\n",
    "        'pagenumber': i\n",
    "    }\n",
    "    df_essen = df_essen.append(df_from_url(base_url, params_essen_loop))"
   ]
  },
  {
   "cell_type": "markdown",
   "metadata": {},
   "source": [
    "### Write function to create concatenated dataframe"
   ]
  },
  {
   "cell_type": "markdown",
   "metadata": {},
   "source": [
    "#### Define dictionary with location name (city or country or region, ...) and corresponding geocodes\n",
    "\n",
    "The geocodes can be obtained using the GIS API from api.immobilienscout24.de"
   ]
  },
  {
   "cell_type": "markdown",
   "metadata": {},
   "source": [
    "## <font color=\"Green\"><b> Export to Library.</b> </font>"
   ]
  },
  {
   "cell_type": "code",
   "execution_count": 25,
   "metadata": {},
   "outputs": [],
   "source": [
    "di_locations = {\n",
    "    'deutschland': 1276,\n",
    "    'berlin': 1276003001,\n",
    "    'essen': 1276010015,\n",
    "    'hamburg': 1276006001\n",
    "}"
   ]
  },
  {
   "cell_type": "markdown",
   "metadata": {},
   "source": [
    "test dictionary..."
   ]
  },
  {
   "cell_type": "code",
   "execution_count": 26,
   "metadata": {},
   "outputs": [],
   "source": [
    "location = 'essen'"
   ]
  },
  {
   "cell_type": "code",
   "execution_count": 27,
   "metadata": {},
   "outputs": [],
   "source": [
    "di_locations[location];"
   ]
  },
  {
   "cell_type": "code",
   "execution_count": 28,
   "metadata": {},
   "outputs": [],
   "source": [
    "di_locations;"
   ]
  },
  {
   "cell_type": "markdown",
   "metadata": {},
   "source": [
    "#### Define function to create entire dataframe for a location"
   ]
  },
  {
   "cell_type": "markdown",
   "metadata": {},
   "source": [
    "## <font color=\"Green\"><b> Export to Library.</b> </font>"
   ]
  },
  {
   "cell_type": "code",
   "execution_count": 29,
   "metadata": {},
   "outputs": [],
   "source": [
    "def create_df_all(url, location, di_locations):\n",
    "    \n",
    "    params_loc = { \n",
    "        'realestatetype':'apartmentbuy', \n",
    "        'geocodes': di_locations[location]\n",
    "    }\n",
    "    \n",
    "    df_location = df_from_url(url, params_loc)\n",
    "    \n",
    "    for i in range(2, num_pages_from_url(url, params_loc) + 1):\n",
    "        params_loc_loop = { \n",
    "            'realestatetype':'apartmentbuy', \n",
    "            'geocodes': di_locations[location],\n",
    "            'pagenumber': i\n",
    "        }\n",
    "        df_location = df_location.append(df_from_url(url, params_loc_loop))\n",
    "    \n",
    "    return df_location"
   ]
  },
  {
   "cell_type": "markdown",
   "metadata": {},
   "source": [
    "### Calculate additional columns"
   ]
  },
  {
   "cell_type": "markdown",
   "metadata": {},
   "source": [
    "#### Calculate price per qm in new column `price_per_qm`"
   ]
  },
  {
   "cell_type": "code",
   "execution_count": 30,
   "metadata": {},
   "outputs": [],
   "source": [
    "df_essen['price'] = pd.to_numeric(df_essen['price'])\n",
    "df_essen['qm'] = pd.to_numeric(df_essen['qm'])\n",
    "df_essen['price_per_qm'] = round(df_essen['price'] / df_essen['qm'], 1)"
   ]
  },
  {
   "cell_type": "markdown",
   "metadata": {},
   "source": [
    "#### Add column `zwangsversteigerung` to indicate whether the listed item is a Zwangsversteigerung\n",
    "\n",
    "*Note: this piece of information is not reliable*"
   ]
  },
  {
   "cell_type": "code",
   "execution_count": 31,
   "metadata": {},
   "outputs": [],
   "source": [
    "df_essen['zwangsversteigerung'] = np.where(df_essen['title'].str.contains('Zwangs'), 'yes', 'no')"
   ]
  },
  {
   "cell_type": "markdown",
   "metadata": {},
   "source": [
    "#### Reset index and sort dataframe by price per qm"
   ]
  },
  {
   "cell_type": "code",
   "execution_count": 32,
   "metadata": {},
   "outputs": [],
   "source": [
    "df_essen_op = df_essen.reset_index(drop=True).sort_values(by='price_per_qm')"
   ]
  },
  {
   "cell_type": "markdown",
   "metadata": {},
   "source": [
    "# Output `df_essen` to CSV file"
   ]
  },
  {
   "cell_type": "code",
   "execution_count": 33,
   "metadata": {},
   "outputs": [],
   "source": [
    "df_essen_op;"
   ]
  },
  {
   "cell_type": "code",
   "execution_count": 34,
   "metadata": {},
   "outputs": [],
   "source": [
    "# df_essen_op.to_csv(path_op + 'essen_v0.1.csv', index=False)"
   ]
  },
  {
   "cell_type": "markdown",
   "metadata": {},
   "source": [
    "# EDA"
   ]
  },
  {
   "cell_type": "code",
   "execution_count": 35,
   "metadata": {},
   "outputs": [],
   "source": [
    "df = df_essen_op.copy()"
   ]
  },
  {
   "cell_type": "code",
   "execution_count": 36,
   "metadata": {},
   "outputs": [
    {
     "data": {
      "image/png": "[encoded data removed]",
      "text/plain": [
       "<Figure size 432x288 with 1 Axes>"
      ]
     },
     "metadata": {
      "needs_background": "light"
     },
     "output_type": "display_data"
    }
   ],
   "source": [
    "df.price_per_qm.hist();"
   ]
  },
  {
   "cell_type": "markdown",
   "metadata": {},
   "source": [
    "---"
   ]
  },
  {
   "cell_type": "markdown",
   "metadata": {},
   "source": [
    "# Create Berlin dataframe `df_berlin`"
   ]
  },
  {
   "cell_type": "markdown",
   "metadata": {},
   "source": [
    "Steps:\n",
    "\n",
    "* Run `create_df_all` to create dataframe containing all information (i.e. all pages) for Berlin\n",
    "* Calculate the `price_per_qm`\n",
    "* Save output to csv file"
   ]
  },
  {
   "cell_type": "code",
   "execution_count": 37,
   "metadata": {},
   "outputs": [],
   "source": [
    "df_berlin = create_df_all(base_url, 'berlin', di_locations).reset_index(drop=True)"
   ]
  },
  {
   "cell_type": "markdown",
   "metadata": {},
   "source": [
    "### Data Wrangling"
   ]
  },
  {
   "cell_type": "code",
   "execution_count": 38,
   "metadata": {},
   "outputs": [],
   "source": [
    "df_berlin[[\"id\"]].astype(int);"
   ]
  },
  {
   "cell_type": "markdown",
   "metadata": {},
   "source": [
    "<font color=\"red\"><b>TODO:</b> add a function that takes in a dataframe and a list of column names and returns a dataframe where the provided column names are transformed into numeric data type.</font>\n",
    "\n",
    "Currently, this is manually done in the `calc_price_per_qm` function below"
   ]
  },
  {
   "cell_type": "code",
   "execution_count": 39,
   "metadata": {},
   "outputs": [],
   "source": [
    "# input df has to have the columns 'price' and 'qm'\n",
    "def calc_price_per_qm(df):\n",
    "\n",
    "    df['price'] = pd.to_numeric(df['price'])\n",
    "    df['qm'] = pd.to_numeric(df['qm'])\n",
    "    df['n_room'] = pd.to_numeric(df['n_room'])\n",
    "    df['n_page'] = pd.to_numeric(df['n_page'])\n",
    "    df['price_per_qm'] = np.where(df['qm'] != 0, round(df['price'] / df['qm'], 1), np.NaN)\n",
    "    \n",
    "    return df"
   ]
  },
  {
   "cell_type": "code",
   "execution_count": 40,
   "metadata": {},
   "outputs": [],
   "source": [
    "df_berlin = calc_price_per_qm(df_berlin)"
   ]
  },
  {
   "cell_type": "code",
   "execution_count": 41,
   "metadata": {},
   "outputs": [
    {
     "data": {
      "text/html": [
       "<div>\n",
       "<style scoped>\n",
       "    .dataframe tbody tr th:only-of-type {\n",
       "        vertical-align: middle;\n",
       "    }\n",
       "\n",
       "    .dataframe tbody tr th {\n",
       "        vertical-align: top;\n",
       "    }\n",
       "\n",
       "    .dataframe thead th {\n",
       "        text-align: right;\n",
       "    }\n",
       "</style>\n",
       "<table border=\"1\" class=\"dataframe\">\n",
       "  <thead>\n",
       "    <tr style=\"text-align: right;\">\n",
       "      <th></th>\n",
       "      <th>id</th>\n",
       "      <th>title</th>\n",
       "      <th>city</th>\n",
       "      <th>quarter</th>\n",
       "      <th>price</th>\n",
       "      <th>qm</th>\n",
       "      <th>n_room</th>\n",
       "      <th>n_page</th>\n",
       "      <th>price_per_qm</th>\n",
       "    </tr>\n",
       "  </thead>\n",
       "  <tbody>\n",
       "    <tr>\n",
       "      <th>0</th>\n",
       "      <td>114579519</td>\n",
       "      <td>Wohnen am Bergmannkiez: Moderne 2-Zimmer-Wohnung mit hochwertiger Ausstattung</td>\n",
       "      <td>Berlin</td>\n",
       "      <td>Kreuzberg (Kreuzberg)</td>\n",
       "      <td>352000.0</td>\n",
       "      <td>61.80</td>\n",
       "      <td>2.0</td>\n",
       "      <td>1</td>\n",
       "      <td>5695.8</td>\n",
       "    </tr>\n",
       "    <tr>\n",
       "      <th>1</th>\n",
       "      <td>114579517</td>\n",
       "      <td>Wohnen im Neubau: Moderne 2-Zimmer-Wohnung mit Garten und sonniger Terrasse in Kreuzberg</td>\n",
       "      <td>Berlin</td>\n",
       "      <td>Kreuzberg (Kreuzberg)</td>\n",
       "      <td>407000.0</td>\n",
       "      <td>51.42</td>\n",
       "      <td>2.0</td>\n",
       "      <td>1</td>\n",
       "      <td>7915.2</td>\n",
       "    </tr>\n",
       "    <tr>\n",
       "      <th>2</th>\n",
       "      <td>114579516</td>\n",
       "      <td>Großes Schlafzimmer und Loggia: Gemütliche 2-Zimmer-Wohnung am Bergmannkiez</td>\n",
       "      <td>Berlin</td>\n",
       "      <td>Kreuzberg (Kreuzberg)</td>\n",
       "      <td>410000.0</td>\n",
       "      <td>59.34</td>\n",
       "      <td>2.0</td>\n",
       "      <td>1</td>\n",
       "      <td>6909.3</td>\n",
       "    </tr>\n",
       "  </tbody>\n",
       "</table>\n",
       "</div>"
      ],
      "text/plain": [
       "          id  \\\n",
       "0  114579519   \n",
       "1  114579517   \n",
       "2  114579516   \n",
       "\n",
       "                                                                                      title  \\\n",
       "0             Wohnen am Bergmannkiez: Moderne 2-Zimmer-Wohnung mit hochwertiger Ausstattung   \n",
       "1  Wohnen im Neubau: Moderne 2-Zimmer-Wohnung mit Garten und sonniger Terrasse in Kreuzberg   \n",
       "2               Großes Schlafzimmer und Loggia: Gemütliche 2-Zimmer-Wohnung am Bergmannkiez   \n",
       "\n",
       "     city                quarter     price     qm  n_room  n_page  \\\n",
       "0  Berlin  Kreuzberg (Kreuzberg)  352000.0  61.80     2.0       1   \n",
       "1  Berlin  Kreuzberg (Kreuzberg)  407000.0  51.42     2.0       1   \n",
       "2  Berlin  Kreuzberg (Kreuzberg)  410000.0  59.34     2.0       1   \n",
       "\n",
       "   price_per_qm  \n",
       "0        5695.8  \n",
       "1        7915.2  \n",
       "2        6909.3  "
      ]
     },
     "execution_count": 41,
     "metadata": {},
     "output_type": "execute_result"
    }
   ],
   "source": [
    "df_berlin.head(3)"
   ]
  },
  {
   "cell_type": "code",
   "execution_count": 42,
   "metadata": {},
   "outputs": [
    {
     "name": "stdout",
     "output_type": "stream",
     "text": [
      "<class 'pandas.core.frame.DataFrame'>\n",
      "RangeIndex: 6747 entries, 0 to 6746\n",
      "Data columns (total 9 columns):\n",
      "id              6747 non-null object\n",
      "title           6747 non-null object\n",
      "city            6747 non-null object\n",
      "quarter         6747 non-null object\n",
      "price           6747 non-null float64\n",
      "qm              6747 non-null float64\n",
      "n_room          6747 non-null float64\n",
      "n_page          6747 non-null int64\n",
      "price_per_qm    6741 non-null float64\n",
      "dtypes: float64(4), int64(1), object(4)\n",
      "memory usage: 474.5+ KB\n"
     ]
    }
   ],
   "source": [
    "df_berlin.info()"
   ]
  },
  {
   "cell_type": "markdown",
   "metadata": {},
   "source": [
    "### Save `df_berlin` to csv file"
   ]
  },
  {
   "cell_type": "code",
   "execution_count": 43,
   "metadata": {},
   "outputs": [],
   "source": [
    "df_berlin.to_csv('20200122_apts_buy_berlin_v0.2_AG.csv')"
   ]
  },
  {
   "cell_type": "markdown",
   "metadata": {},
   "source": [
    "---"
   ]
  },
  {
   "cell_type": "markdown",
   "metadata": {},
   "source": [
    "# EDA with `df_berlin`"
   ]
  },
  {
   "cell_type": "markdown",
   "metadata": {},
   "source": [
    "#### Check whether numeric columns have numeric dtypes"
   ]
  },
  {
   "cell_type": "code",
   "execution_count": 44,
   "metadata": {},
   "outputs": [
    {
     "name": "stdout",
     "output_type": "stream",
     "text": [
      "<class 'pandas.core.frame.DataFrame'>\n",
      "RangeIndex: 6747 entries, 0 to 6746\n",
      "Data columns (total 5 columns):\n",
      "price           6747 non-null float64\n",
      "qm              6747 non-null float64\n",
      "n_room          6747 non-null float64\n",
      "n_page          6747 non-null int64\n",
      "price_per_qm    6741 non-null float64\n",
      "dtypes: float64(4), int64(1)\n",
      "memory usage: 263.7 KB\n"
     ]
    }
   ],
   "source": [
    "df_berlin.iloc[:, 4:].info()"
   ]
  },
  {
   "cell_type": "markdown",
   "metadata": {},
   "source": [
    "#### Check the distribution of `price_per_qm`"
   ]
  },
  {
   "cell_type": "code",
   "execution_count": 45,
   "metadata": {},
   "outputs": [
    {
     "data": {
      "text/plain": [
       "[0,\n",
       " 500,\n",
       " 1000,\n",
       " 1500,\n",
       " 2000,\n",
       " 2500,\n",
       " 3000,\n",
       " 3500,\n",
       " 4000,\n",
       " 4500,\n",
       " 5000,\n",
       " 5500,\n",
       " 6000,\n",
       " 6500,\n",
       " 7000,\n",
       " 7500,\n",
       " 8000,\n",
       " 8500,\n",
       " 9000,\n",
       " 9500,\n",
       " 10000,\n",
       " 10500,\n",
       " 11000,\n",
       " 11500,\n",
       " 12000,\n",
       " 12500,\n",
       " 13000,\n",
       " 13500,\n",
       " 14000,\n",
       " 14500]"
      ]
     },
     "execution_count": 45,
     "metadata": {},
     "output_type": "execute_result"
    }
   ],
   "source": [
    "bins_p_per_qm = []\n",
    "for i in range(30):\n",
    "    bins_p_per_qm.append(i*500)\n",
    "\n",
    "bins_p_per_qm"
   ]
  },
  {
   "cell_type": "code",
   "execution_count": 46,
   "metadata": {
    "scrolled": true
   },
   "outputs": [
    {
     "data": {
      "image/png": "[encoded data removed]",
      "text/plain": [
       "<Figure size 432x288 with 1 Axes>"
      ]
     },
     "metadata": {
      "needs_background": "light"
     },
     "output_type": "display_data"
    }
   ],
   "source": [
    "df_berlin['price_per_qm'].hist(bins=bins_p_per_qm);"
   ]
  },
  {
   "cell_type": "code",
   "execution_count": 47,
   "metadata": {},
   "outputs": [],
   "source": [
    "bins_p = []\n",
    "for i in range(100):\n",
    "    bins_p.append(i*10000)"
   ]
  },
  {
   "cell_type": "code",
   "execution_count": 48,
   "metadata": {
    "scrolled": true
   },
   "outputs": [
    {
     "data": {
      "image/png": "[encoded data removed]",
      "text/plain": [
       "<Figure size 432x288 with 1 Axes>"
      ]
     },
     "metadata": {
      "needs_background": "light"
     },
     "output_type": "display_data"
    }
   ],
   "source": [
    "df_berlin['price'].hist(bins=bins_p);"
   ]
  }
 ],
 "metadata": {
  "kernelspec": {
   "display_name": "Python 3",
   "language": "python",
   "name": "python3"
  },
  "language_info": {
   "codemirror_mode": {
    "name": "ipython",
    "version": 3
   },
   "file_extension": ".py",
   "mimetype": "text/x-python",
   "name": "python",
   "nbconvert_exporter": "python",
   "pygments_lexer": "ipython3",
   "version": "3.7.5"
  }
 },
 "nbformat": 4,
 "nbformat_minor": 2
}
