{
 "cells": [
  {
   "cell_type": "markdown",
   "metadata": {},
   "source": [
    "## Scrapping Amount of Restaurants per Postcode"
   ]
  },
  {
   "cell_type": "code",
   "execution_count": 1,
   "metadata": {
    "ExecuteTime": {
     "end_time": "2020-01-23T16:04:04.305743Z",
     "start_time": "2020-01-23T16:04:04.277796Z"
    }
   },
   "outputs": [],
   "source": [
    "%reset -f\n",
    "#%install_ext https://raw.github.com/cpcloud/ipython-autotime/master/autotime.py"
   ]
  },
  {
   "cell_type": "code",
   "execution_count": 2,
   "metadata": {
    "ExecuteTime": {
     "end_time": "2020-01-23T16:04:05.142996Z",
     "start_time": "2020-01-23T16:04:04.306717Z"
    }
   },
   "outputs": [],
   "source": [
    "from library import lieferando_AG as lf"
   ]
  },
  {
   "cell_type": "code",
   "execution_count": 3,
   "metadata": {
    "ExecuteTime": {
     "end_time": "2020-01-23T16:04:05.147983Z",
     "start_time": "2020-01-23T16:04:05.143993Z"
    }
   },
   "outputs": [],
   "source": [
    "postcode_list = [10999, 10179, 10178, 10965, 10115, 10117, 10119,10435, 10243, 12524, 10245, 10999, 10178, 12437, 10315]   "
   ]
  },
  {
   "cell_type": "code",
   "execution_count": 4,
   "metadata": {
    "ExecuteTime": {
     "end_time": "2020-01-23T16:04:05.166932Z",
     "start_time": "2020-01-23T16:04:05.148980Z"
    }
   },
   "outputs": [
    {
     "data": {
      "text/plain": [
       "[10999,\n",
       " 10179,\n",
       " 10178,\n",
       " 10965,\n",
       " 10115,\n",
       " 10117,\n",
       " 10119,\n",
       " 10435,\n",
       " 10243,\n",
       " 12524,\n",
       " 10245,\n",
       " 10999,\n",
       " 10178,\n",
       " 12437,\n",
       " 10315]"
      ]
     },
     "execution_count": 4,
     "metadata": {},
     "output_type": "execute_result"
    }
   ],
   "source": [
    "postcode_list"
   ]
  },
  {
   "cell_type": "code",
   "execution_count": 5,
   "metadata": {
    "ExecuteTime": {
     "end_time": "2020-01-23T16:04:05.178925Z",
     "start_time": "2020-01-23T16:04:05.167930Z"
    }
   },
   "outputs": [
    {
     "data": {
      "text/plain": [
       "15"
      ]
     },
     "execution_count": 5,
     "metadata": {},
     "output_type": "execute_result"
    }
   ],
   "source": [
    "len(postcode_list)"
   ]
  },
  {
   "cell_type": "code",
   "execution_count": 6,
   "metadata": {
    "ExecuteTime": {
     "end_time": "2020-01-23T16:06:10.330419Z",
     "start_time": "2020-01-23T16:04:05.182894Z"
    },
    "scrolled": true
   },
   "outputs": [
    {
     "name": "stderr",
     "output_type": "stream",
     "text": [
      "C:\\Users\\Work\\Anaconda3\\envs\\code_red\\lib\\site-packages\\selenium\\webdriver\\phantomjs\\webdriver.py:49: UserWarning: Selenium support for PhantomJS has been deprecated, please use headless versions of Chrome or Firefox instead\n",
      "  warnings.warn('Selenium support for PhantomJS has been deprecated, please use headless '\n"
     ]
    },
    {
     "name": "stdout",
     "output_type": "stream",
     "text": [
      "['305']\n",
      "[{'postcode': 10999, 'n_restaurant': 305}]\n",
      "['351']\n",
      "[{'postcode': 10999, 'n_restaurant': 305}, {'postcode': 10179, 'n_restaurant': 351}]\n",
      "['357']\n",
      "[{'postcode': 10999, 'n_restaurant': 305}, {'postcode': 10179, 'n_restaurant': 351}, {'postcode': 10178, 'n_restaurant': 357}]\n",
      "['261']\n",
      "[{'postcode': 10999, 'n_restaurant': 305}, {'postcode': 10179, 'n_restaurant': 351}, {'postcode': 10178, 'n_restaurant': 357}, {'postcode': 10965, 'n_restaurant': 261}]\n",
      "['334']\n",
      "[{'postcode': 10999, 'n_restaurant': 305}, {'postcode': 10179, 'n_restaurant': 351}, {'postcode': 10178, 'n_restaurant': 357}, {'postcode': 10965, 'n_restaurant': 261}, {'postcode': 10115, 'n_restaurant': 334}]\n",
      "['325']\n",
      "[{'postcode': 10999, 'n_restaurant': 305}, {'postcode': 10179, 'n_restaurant': 351}, {'postcode': 10178, 'n_restaurant': 357}, {'postcode': 10965, 'n_restaurant': 261}, {'postcode': 10115, 'n_restaurant': 334}, {'postcode': 10117, 'n_restaurant': 325}]\n",
      "['351']\n",
      "[{'postcode': 10999, 'n_restaurant': 305}, {'postcode': 10179, 'n_restaurant': 351}, {'postcode': 10178, 'n_restaurant': 357}, {'postcode': 10965, 'n_restaurant': 261}, {'postcode': 10115, 'n_restaurant': 334}, {'postcode': 10117, 'n_restaurant': 325}, {'postcode': 10119, 'n_restaurant': 351}]\n",
      "['350']\n",
      "[{'postcode': 10999, 'n_restaurant': 305}, {'postcode': 10179, 'n_restaurant': 351}, {'postcode': 10178, 'n_restaurant': 357}, {'postcode': 10965, 'n_restaurant': 261}, {'postcode': 10115, 'n_restaurant': 334}, {'postcode': 10117, 'n_restaurant': 325}, {'postcode': 10119, 'n_restaurant': 351}, {'postcode': 10435, 'n_restaurant': 350}]\n",
      "['373']\n",
      "[{'postcode': 10999, 'n_restaurant': 305}, {'postcode': 10179, 'n_restaurant': 351}, {'postcode': 10178, 'n_restaurant': 357}, {'postcode': 10965, 'n_restaurant': 261}, {'postcode': 10115, 'n_restaurant': 334}, {'postcode': 10117, 'n_restaurant': 325}, {'postcode': 10119, 'n_restaurant': 351}, {'postcode': 10435, 'n_restaurant': 350}, {'postcode': 10243, 'n_restaurant': 373}]\n",
      "['59']\n",
      "[{'postcode': 10999, 'n_restaurant': 305}, {'postcode': 10179, 'n_restaurant': 351}, {'postcode': 10178, 'n_restaurant': 357}, {'postcode': 10965, 'n_restaurant': 261}, {'postcode': 10115, 'n_restaurant': 334}, {'postcode': 10117, 'n_restaurant': 325}, {'postcode': 10119, 'n_restaurant': 351}, {'postcode': 10435, 'n_restaurant': 350}, {'postcode': 10243, 'n_restaurant': 373}, {'postcode': 12524, 'n_restaurant': 59}]\n",
      "['289']\n",
      "[{'postcode': 10999, 'n_restaurant': 305}, {'postcode': 10179, 'n_restaurant': 351}, {'postcode': 10178, 'n_restaurant': 357}, {'postcode': 10965, 'n_restaurant': 261}, {'postcode': 10115, 'n_restaurant': 334}, {'postcode': 10117, 'n_restaurant': 325}, {'postcode': 10119, 'n_restaurant': 351}, {'postcode': 10435, 'n_restaurant': 350}, {'postcode': 10243, 'n_restaurant': 373}, {'postcode': 12524, 'n_restaurant': 59}, {'postcode': 10245, 'n_restaurant': 289}]\n",
      "['305']\n",
      "[{'postcode': 10999, 'n_restaurant': 305}, {'postcode': 10179, 'n_restaurant': 351}, {'postcode': 10178, 'n_restaurant': 357}, {'postcode': 10965, 'n_restaurant': 261}, {'postcode': 10115, 'n_restaurant': 334}, {'postcode': 10117, 'n_restaurant': 325}, {'postcode': 10119, 'n_restaurant': 351}, {'postcode': 10435, 'n_restaurant': 350}, {'postcode': 10243, 'n_restaurant': 373}, {'postcode': 12524, 'n_restaurant': 59}, {'postcode': 10245, 'n_restaurant': 289}, {'postcode': 10999, 'n_restaurant': 305}]\n",
      "['357']\n",
      "[{'postcode': 10999, 'n_restaurant': 305}, {'postcode': 10179, 'n_restaurant': 351}, {'postcode': 10178, 'n_restaurant': 357}, {'postcode': 10965, 'n_restaurant': 261}, {'postcode': 10115, 'n_restaurant': 334}, {'postcode': 10117, 'n_restaurant': 325}, {'postcode': 10119, 'n_restaurant': 351}, {'postcode': 10435, 'n_restaurant': 350}, {'postcode': 10243, 'n_restaurant': 373}, {'postcode': 12524, 'n_restaurant': 59}, {'postcode': 10245, 'n_restaurant': 289}, {'postcode': 10999, 'n_restaurant': 305}, {'postcode': 10178, 'n_restaurant': 357}]\n",
      "['86']\n",
      "[{'postcode': 10999, 'n_restaurant': 305}, {'postcode': 10179, 'n_restaurant': 351}, {'postcode': 10178, 'n_restaurant': 357}, {'postcode': 10965, 'n_restaurant': 261}, {'postcode': 10115, 'n_restaurant': 334}, {'postcode': 10117, 'n_restaurant': 325}, {'postcode': 10119, 'n_restaurant': 351}, {'postcode': 10435, 'n_restaurant': 350}, {'postcode': 10243, 'n_restaurant': 373}, {'postcode': 12524, 'n_restaurant': 59}, {'postcode': 10245, 'n_restaurant': 289}, {'postcode': 10999, 'n_restaurant': 305}, {'postcode': 10178, 'n_restaurant': 357}, {'postcode': 12437, 'n_restaurant': 86}]\n",
      "['89']\n",
      "[{'postcode': 10999, 'n_restaurant': 305}, {'postcode': 10179, 'n_restaurant': 351}, {'postcode': 10178, 'n_restaurant': 357}, {'postcode': 10965, 'n_restaurant': 261}, {'postcode': 10115, 'n_restaurant': 334}, {'postcode': 10117, 'n_restaurant': 325}, {'postcode': 10119, 'n_restaurant': 351}, {'postcode': 10435, 'n_restaurant': 350}, {'postcode': 10243, 'n_restaurant': 373}, {'postcode': 12524, 'n_restaurant': 59}, {'postcode': 10245, 'n_restaurant': 289}, {'postcode': 10999, 'n_restaurant': 305}, {'postcode': 10178, 'n_restaurant': 357}, {'postcode': 12437, 'n_restaurant': 86}, {'postcode': 10315, 'n_restaurant': 89}]\n"
     ]
    }
   ],
   "source": [
    "df_n_restaurant = lf.get_n_restaurant(postcode_list)"
   ]
  },
  {
   "cell_type": "code",
   "execution_count": 7,
   "metadata": {
    "ExecuteTime": {
     "end_time": "2020-01-23T16:06:10.340391Z",
     "start_time": "2020-01-23T16:06:10.331416Z"
    }
   },
   "outputs": [
    {
     "data": {
      "text/html": [
       "<div>\n",
       "<style scoped>\n",
       "    .dataframe tbody tr th:only-of-type {\n",
       "        vertical-align: middle;\n",
       "    }\n",
       "\n",
       "    .dataframe tbody tr th {\n",
       "        vertical-align: top;\n",
       "    }\n",
       "\n",
       "    .dataframe thead th {\n",
       "        text-align: right;\n",
       "    }\n",
       "</style>\n",
       "<table border=\"1\" class=\"dataframe\">\n",
       "  <thead>\n",
       "    <tr style=\"text-align: right;\">\n",
       "      <th></th>\n",
       "      <th>postcode</th>\n",
       "      <th>n_restaurant</th>\n",
       "    </tr>\n",
       "  </thead>\n",
       "  <tbody>\n",
       "    <tr>\n",
       "      <th>0</th>\n",
       "      <td>10999</td>\n",
       "      <td>305</td>\n",
       "    </tr>\n",
       "    <tr>\n",
       "      <th>1</th>\n",
       "      <td>10179</td>\n",
       "      <td>351</td>\n",
       "    </tr>\n",
       "    <tr>\n",
       "      <th>2</th>\n",
       "      <td>10178</td>\n",
       "      <td>357</td>\n",
       "    </tr>\n",
       "    <tr>\n",
       "      <th>3</th>\n",
       "      <td>10965</td>\n",
       "      <td>261</td>\n",
       "    </tr>\n",
       "    <tr>\n",
       "      <th>4</th>\n",
       "      <td>10115</td>\n",
       "      <td>334</td>\n",
       "    </tr>\n",
       "    <tr>\n",
       "      <th>5</th>\n",
       "      <td>10117</td>\n",
       "      <td>325</td>\n",
       "    </tr>\n",
       "    <tr>\n",
       "      <th>6</th>\n",
       "      <td>10119</td>\n",
       "      <td>351</td>\n",
       "    </tr>\n",
       "    <tr>\n",
       "      <th>7</th>\n",
       "      <td>10435</td>\n",
       "      <td>350</td>\n",
       "    </tr>\n",
       "    <tr>\n",
       "      <th>8</th>\n",
       "      <td>10243</td>\n",
       "      <td>373</td>\n",
       "    </tr>\n",
       "    <tr>\n",
       "      <th>9</th>\n",
       "      <td>12524</td>\n",
       "      <td>59</td>\n",
       "    </tr>\n",
       "    <tr>\n",
       "      <th>10</th>\n",
       "      <td>10245</td>\n",
       "      <td>289</td>\n",
       "    </tr>\n",
       "    <tr>\n",
       "      <th>11</th>\n",
       "      <td>10999</td>\n",
       "      <td>305</td>\n",
       "    </tr>\n",
       "    <tr>\n",
       "      <th>12</th>\n",
       "      <td>10178</td>\n",
       "      <td>357</td>\n",
       "    </tr>\n",
       "    <tr>\n",
       "      <th>13</th>\n",
       "      <td>12437</td>\n",
       "      <td>86</td>\n",
       "    </tr>\n",
       "    <tr>\n",
       "      <th>14</th>\n",
       "      <td>10315</td>\n",
       "      <td>89</td>\n",
       "    </tr>\n",
       "  </tbody>\n",
       "</table>\n",
       "</div>"
      ],
      "text/plain": [
       "    postcode  n_restaurant\n",
       "0      10999           305\n",
       "1      10179           351\n",
       "2      10178           357\n",
       "3      10965           261\n",
       "4      10115           334\n",
       "5      10117           325\n",
       "6      10119           351\n",
       "7      10435           350\n",
       "8      10243           373\n",
       "9      12524            59\n",
       "10     10245           289\n",
       "11     10999           305\n",
       "12     10178           357\n",
       "13     12437            86\n",
       "14     10315            89"
      ]
     },
     "execution_count": 7,
     "metadata": {},
     "output_type": "execute_result"
    }
   ],
   "source": [
    "df_n_restaurant"
   ]
  },
  {
   "cell_type": "markdown",
   "metadata": {},
   "source": [
    "## Scrapping other informations from lieferando.de"
   ]
  },
  {
   "cell_type": "code",
   "execution_count": 8,
   "metadata": {
    "ExecuteTime": {
     "end_time": "2020-01-23T16:06:10.347381Z",
     "start_time": "2020-01-23T16:06:10.342386Z"
    }
   },
   "outputs": [],
   "source": [
    "#%reset -f"
   ]
  },
  {
   "cell_type": "code",
   "execution_count": 9,
   "metadata": {
    "ExecuteTime": {
     "end_time": "2020-01-23T16:06:10.361334Z",
     "start_time": "2020-01-23T16:06:10.349370Z"
    }
   },
   "outputs": [],
   "source": [
    "#from library import lieferando_AG as lf"
   ]
  },
  {
   "cell_type": "code",
   "execution_count": 10,
   "metadata": {
    "ExecuteTime": {
     "end_time": "2020-01-23T16:06:10.374301Z",
     "start_time": "2020-01-23T16:06:10.363330Z"
    }
   },
   "outputs": [],
   "source": [
    "#postcode_list = [10176,10177,10178,10179]"
   ]
  },
  {
   "cell_type": "code",
   "execution_count": 11,
   "metadata": {
    "ExecuteTime": {
     "end_time": "2020-01-23T16:06:10.388264Z",
     "start_time": "2020-01-23T16:06:10.377294Z"
    }
   },
   "outputs": [],
   "source": [
    "#teste = lf.get_restaurant_data(postcode_list)"
   ]
  },
  {
   "cell_type": "code",
   "execution_count": 12,
   "metadata": {
    "ExecuteTime": {
     "end_time": "2020-01-23T16:06:10.402228Z",
     "start_time": "2020-01-23T16:06:10.390264Z"
    }
   },
   "outputs": [],
   "source": [
    "#teste"
   ]
  }
 ],
 "metadata": {
  "file_extension": ".py",
  "kernelspec": {
   "display_name": "Python 3",
   "language": "python",
   "name": "python3"
  },
  "language_info": {
   "codemirror_mode": {
    "name": "ipython",
    "version": 3
   },
   "file_extension": ".py",
   "mimetype": "text/x-python",
   "name": "python",
   "nbconvert_exporter": "python",
   "pygments_lexer": "ipython3",
   "version": "3.7.5"
  },
  "mimetype": "text/x-python",
  "name": "python",
  "npconvert_exporter": "python",
  "pygments_lexer": "ipython3",
  "version": 3
 },
 "nbformat": 4,
 "nbformat_minor": 2
}
