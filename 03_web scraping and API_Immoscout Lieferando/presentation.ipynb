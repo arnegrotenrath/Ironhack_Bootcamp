{
 "cells": [
  {
   "cell_type": "markdown",
   "metadata": {
    "slideshow": {
     "slide_type": "slide"
    }
   },
   "source": [
    "# Project 3: Data Thieves\n",
    "\n",
    "### Team Members: Arne, Paschoal, Can\n",
    "\n",
    "\n",
    "<h1>\n",
    "    <font color=\"green\">Analyzing the coherence between real estate prices and number of surrounding restaurants\n",
    "    </font>\n",
    "</h1>"
   ]
  },
  {
   "cell_type": "markdown",
   "metadata": {
    "slideshow": {
     "slide_type": "slide"
    }
   },
   "source": [
    "# Data Sources:\n",
    "\n",
    "<h2>1. API: Immobilienscout24.de: <font color=\"green\">Real estate data</font></h2>\n",
    "<h2>2. Web Scraping: Lieferando: <font color=\"green\">Number of nearby restaurants</font></h2>"
   ]
  },
  {
   "cell_type": "markdown",
   "metadata": {
    "slideshow": {
     "slide_type": "fragment"
    }
   },
   "source": [
    "<img src=\"https://api.immobilienscout24.de/content/dam/is24/images/api/api-logo-immobilienscout24_250x50_font_blau.png\" alt=\"In Zusammenarbeit mit Immobilienscout24.de\">\n",
    "\n",
    "\n",
    "<img src=\"https://images-eu.ssl-images-amazon.com/images/I/71dcWcIRFXL.jpg\" alt=\"Lieferando Logo\" width=\"20%\" height=\"20%\">"
   ]
  },
  {
   "cell_type": "markdown",
   "metadata": {
    "slideshow": {
     "slide_type": "slide"
    }
   },
   "source": [
    "# 1. Immobilienscout24.de -- Main Challenge:\n",
    "\n",
    "## Get API authentication running with OAuth1"
   ]
  },
  {
   "cell_type": "code",
   "execution_count": null,
   "metadata": {
    "slideshow": {
     "slide_type": "fragment"
    }
   },
   "outputs": [],
   "source": [
    "import requests\n",
    "from requests_oauthlib import OAuth1\n",
    "\n",
    "# client key and client secret information were requested and obtained from IS24\n",
    "client_key = 'immokb24_contentKey'\n",
    "client_secret = 'XAuhdu7FDadz78aDHsd7'  # this is a fake client secret ;) \n",
    "\n",
    "auth = OAuth1(client_key, client_secret)"
   ]
  },
  {
   "cell_type": "markdown",
   "metadata": {
    "slideshow": {
     "slide_type": "fragment"
    }
   },
   "source": [
    "#### Pass `auth` in the `requests.get` method:\n",
    "\n",
    "`requests.get(url, auth=auth, params=params)`"
   ]
  },
  {
   "cell_type": "markdown",
   "metadata": {
    "slideshow": {
     "slide_type": "slide"
    }
   },
   "source": [
    "# 2. Lieferando -- Main Challenge: "
   ]
  },
  {
   "cell_type": "code",
   "execution_count": 7,
   "metadata": {
    "slideshow": {
     "slide_type": "fragment"
    }
   },
   "outputs": [],
   "source": [
    "# Libraries\n",
    "from selenium import webdriver\n",
    "from bs4 import BeautifulSoup"
   ]
  },
  {
   "cell_type": "code",
   "execution_count": null,
   "metadata": {
    "slideshow": {
     "slide_type": "fragment"
    }
   },
   "outputs": [],
   "source": [
    "# initialize browser for process dynamic webpages\n",
    "browser = webdriver.PhantomJS()\n",
    "\n",
    "# define wait time to javascript load restaurants information \n",
    "browser.implicitly_wait(3)"
   ]
  },
  {
   "cell_type": "code",
   "execution_count": null,
   "metadata": {
    "slideshow": {
     "slide_type": "fragment"
    }
   },
   "outputs": [],
   "source": [
    "# Get target webpage \n",
    "postcode = \"10179\"\n",
    "browser.get(\"https://www.lieferando.de/en/order-takeaway-berlin-\"+ str(postcode))\n",
    "\n",
    "# Translate get response with html.parser to access html tags\n",
    "page = BeautifulSoup(browser.page_source,\"html.parser\")\n",
    "\n",
    "# close browser\n",
    "browser.close()"
   ]
  },
  {
   "cell_type": "code",
   "execution_count": null,
   "metadata": {
    "slideshow": {
     "slide_type": "fragment"
    }
   },
   "outputs": [],
   "source": [
    "# Extract the number of restaurants \n",
    "restaurant_amount = (page\n",
    "                    .body\n",
    "                    .header\n",
    "                    .find(\"span\", class_=\"restaurant-amount\")                    )"
   ]
  },
  {
   "cell_type": "markdown",
   "metadata": {
    "slideshow": {
     "slide_type": "slide"
    }
   },
   "source": [
    "# 3. Results"
   ]
  },
  {
   "cell_type": "markdown",
   "metadata": {
    "ExecuteTime": {
     "end_time": "2020-01-24T17:48:10.719958Z",
     "start_time": "2020-01-24T17:48:10.713519Z"
    },
    "scrolled": true,
    "slideshow": {
     "slide_type": "subslide"
    }
   },
   "source": [
    "<img src=\"presentation/buyprice.png\" width=\"100%\" height=\"100%\" >"
   ]
  },
  {
   "cell_type": "markdown",
   "metadata": {
    "slideshow": {
     "slide_type": "subslide"
    }
   },
   "source": [
    "<img src=\"presentation/rentprice.png\" width=\"100%\" height=\"100%\" >"
   ]
  }
 ],
 "metadata": {
  "celltoolbar": "Slideshow",
  "kernelspec": {
   "display_name": "Python 3",
   "language": "python",
   "name": "python3"
  },
  "language_info": {
   "codemirror_mode": {
    "name": "ipython",
    "version": 3
   },
   "file_extension": ".py",
   "mimetype": "text/x-python",
   "name": "python",
   "nbconvert_exporter": "python",
   "pygments_lexer": "ipython3",
   "version": "3.7.5"
  }
 },
 "nbformat": 4,
 "nbformat_minor": 2
}
