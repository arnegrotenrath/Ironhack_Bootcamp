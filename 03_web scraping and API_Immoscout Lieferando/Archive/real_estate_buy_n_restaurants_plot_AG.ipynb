{
 "cells": [
  {
   "cell_type": "code",
   "execution_count": 1,
   "metadata": {
    "ExecuteTime": {
     "end_time": "2020-01-24T16:55:20.266185Z",
     "start_time": "2020-01-24T16:55:19.289756Z"
    }
   },
   "outputs": [],
   "source": [
    "import pandas as pd\n",
    "\n",
    "import seaborn as sns\n",
    "import matplotlib.pyplot as plt\n",
    "\n",
    "pd.set_option('display.max_rows', 500)\n",
    "pd.set_option('display.max_columns', 500)"
   ]
  },
  {
   "cell_type": "code",
   "execution_count": 2,
   "metadata": {
    "ExecuteTime": {
     "end_time": "2020-01-24T16:55:20.294089Z",
     "start_time": "2020-01-24T16:55:20.267142Z"
    }
   },
   "outputs": [],
   "source": [
    "df = pd.read_csv(\"data/20200124_is24_plus_lieferando.csv\", sep = \";\")"
   ]
  },
  {
   "cell_type": "code",
   "execution_count": 11,
   "metadata": {
    "ExecuteTime": {
     "end_time": "2020-01-24T17:03:23.993856Z",
     "start_time": "2020-01-24T17:03:23.974507Z"
    }
   },
   "outputs": [
    {
     "data": {
      "text/html": [
       "<div>\n",
       "<style scoped>\n",
       "    .dataframe tbody tr th:only-of-type {\n",
       "        vertical-align: middle;\n",
       "    }\n",
       "\n",
       "    .dataframe tbody tr th {\n",
       "        vertical-align: top;\n",
       "    }\n",
       "\n",
       "    .dataframe thead th {\n",
       "        text-align: right;\n",
       "    }\n",
       "</style>\n",
       "<table border=\"1\" class=\"dataframe\">\n",
       "  <thead>\n",
       "    <tr style=\"text-align: right;\">\n",
       "      <th></th>\n",
       "      <th>Unnamed: 0</th>\n",
       "      <th>id</th>\n",
       "      <th>title</th>\n",
       "      <th>city</th>\n",
       "      <th>quarter</th>\n",
       "      <th>postcode</th>\n",
       "      <th>street</th>\n",
       "      <th>houseNo</th>\n",
       "      <th>price</th>\n",
       "      <th>qm</th>\n",
       "      <th>n_room</th>\n",
       "      <th>latitude</th>\n",
       "      <th>longitude</th>\n",
       "      <th>privateOffer</th>\n",
       "      <th>marketingType</th>\n",
       "      <th>hasCourtage</th>\n",
       "      <th>n_page_is24</th>\n",
       "      <th>price_per_qm</th>\n",
       "      <th>n_restaurant</th>\n",
       "    </tr>\n",
       "  </thead>\n",
       "  <tbody>\n",
       "  </tbody>\n",
       "</table>\n",
       "</div>"
      ],
      "text/plain": [
       "Empty DataFrame\n",
       "Columns: [Unnamed: 0, id, title, city, quarter, postcode, street, houseNo, price, qm, n_room, latitude, longitude, privateOffer, marketingType, hasCourtage, n_page_is24, price_per_qm, n_restaurant]\n",
       "Index: []"
      ]
     },
     "execution_count": 11,
     "metadata": {},
     "output_type": "execute_result"
    }
   ],
   "source": [
    "df[df[\"marketingType\"] != \"PURCHASE\"]"
   ]
  },
  {
   "cell_type": "code",
   "execution_count": 3,
   "metadata": {
    "ExecuteTime": {
     "end_time": "2020-01-24T16:55:20.305041Z",
     "start_time": "2020-01-24T16:55:20.295067Z"
    }
   },
   "outputs": [],
   "source": [
    "df_analysis = df.groupby([\"n_restaurant\", \"postcode\"]).mean()"
   ]
  },
  {
   "cell_type": "code",
   "execution_count": 5,
   "metadata": {
    "ExecuteTime": {
     "end_time": "2020-01-24T16:55:20.318017Z",
     "start_time": "2020-01-24T16:55:20.313020Z"
    }
   },
   "outputs": [],
   "source": [
    "df_analysis = df_analysis[[\"price_per_qm\"]]"
   ]
  },
  {
   "cell_type": "code",
   "execution_count": 20,
   "metadata": {
    "ExecuteTime": {
     "end_time": "2020-01-24T17:34:30.251976Z",
     "start_time": "2020-01-24T17:34:30.239363Z"
    }
   },
   "outputs": [
    {
     "data": {
      "text/html": [
       "<div>\n",
       "<style scoped>\n",
       "    .dataframe tbody tr th:only-of-type {\n",
       "        vertical-align: middle;\n",
       "    }\n",
       "\n",
       "    .dataframe tbody tr th {\n",
       "        vertical-align: top;\n",
       "    }\n",
       "\n",
       "    .dataframe thead th {\n",
       "        text-align: right;\n",
       "    }\n",
       "</style>\n",
       "<table border=\"1\" class=\"dataframe\">\n",
       "  <thead>\n",
       "    <tr style=\"text-align: right;\">\n",
       "      <th></th>\n",
       "      <th></th>\n",
       "      <th>price_per_qm</th>\n",
       "    </tr>\n",
       "    <tr>\n",
       "      <th>n_restaurant</th>\n",
       "      <th>postcode</th>\n",
       "      <th></th>\n",
       "    </tr>\n",
       "  </thead>\n",
       "  <tbody>\n",
       "    <tr>\n",
       "      <th>22.0</th>\n",
       "      <th>13465</th>\n",
       "      <td>4300.718750</td>\n",
       "    </tr>\n",
       "    <tr>\n",
       "      <th>28.0</th>\n",
       "      <th>14089</th>\n",
       "      <td>4141.187500</td>\n",
       "    </tr>\n",
       "    <tr>\n",
       "      <th>29.0</th>\n",
       "      <th>13125</th>\n",
       "      <td>2812.880000</td>\n",
       "    </tr>\n",
       "    <tr>\n",
       "      <th>33.0</th>\n",
       "      <th>13505</th>\n",
       "      <td>4795.500000</td>\n",
       "    </tr>\n",
       "    <tr>\n",
       "      <th>36.0</th>\n",
       "      <th>14129</th>\n",
       "      <td>5847.407143</td>\n",
       "    </tr>\n",
       "  </tbody>\n",
       "</table>\n",
       "</div>"
      ],
      "text/plain": [
       "                       price_per_qm\n",
       "n_restaurant postcode              \n",
       "22.0         13465      4300.718750\n",
       "28.0         14089      4141.187500\n",
       "29.0         13125      2812.880000\n",
       "33.0         13505      4795.500000\n",
       "36.0         14129      5847.407143"
      ]
     },
     "execution_count": 20,
     "metadata": {},
     "output_type": "execute_result"
    }
   ],
   "source": [
    "df_analysis.head()"
   ]
  },
  {
   "cell_type": "code",
   "execution_count": 21,
   "metadata": {
    "ExecuteTime": {
     "end_time": "2020-01-24T17:41:17.147055Z",
     "start_time": "2020-01-24T17:41:16.484976Z"
    },
    "scrolled": true
   },
   "outputs": [
    {
     "data": {
      "image/png": "[encoded data removed]",
      "text/plain": [
       "<Figure size 432x288 with 1 Axes>"
      ]
     },
     "metadata": {
      "needs_background": "light"
     },
     "output_type": "display_data"
    }
   ],
   "source": [
    "g = (sns.regplot(data = df_analysis.reset_index(), \n",
    "                 x = 'n_restaurant',\n",
    "                 y = 'price_per_qm',\n",
    "                 line_kws = {\"color\": \"orange\"},\n",
    "                 scatter_kws ={\"s\": 5}))\n",
    "\n",
    "g.set_title(\"Real estate price vs. deliverable restaurants\", fontsize = 17);"
   ]
  },
  {
   "cell_type": "code",
   "execution_count": 34,
   "metadata": {
    "ExecuteTime": {
     "end_time": "2020-01-24T17:46:11.394224Z",
     "start_time": "2020-01-24T17:46:10.534217Z"
    }
   },
   "outputs": [
    {
     "data": {
      "image/png": "[encoded data removed]",
      "text/plain": [
       "<Figure size 432x288 with 1 Axes>"
      ]
     },
     "metadata": {
      "needs_background": "light"
     },
     "output_type": "display_data"
    }
   ],
   "source": [
    "(sns.regplot(data = df_analysis.reset_index(), \n",
    "                 x = 'n_restaurant',\n",
    "                 y = 'price_per_qm',\n",
    "                 line_kws = {\"color\": \"orange\"},\n",
    "                 scatter_kws ={\"s\": 5}))\n",
    "\n",
    "plt.savefig(\"Presentation/buyprice.png\")"
   ]
  },
  {
   "cell_type": "code",
   "execution_count": 26,
   "metadata": {
    "ExecuteTime": {
     "end_time": "2020-01-24T17:43:25.805126Z",
     "start_time": "2020-01-24T17:43:25.750430Z"
    }
   },
   "outputs": [
    {
     "data": {
      "text/plain": [
       "<Figure size 432x288 with 0 Axes>"
      ]
     },
     "metadata": {},
     "output_type": "display_data"
    }
   ],
   "source": [
    "plt.savefig(\"Presentation/buyprice.pdf\")"
   ]
  }
 ],
 "metadata": {
  "kernelspec": {
   "display_name": "Python 3",
   "language": "python",
   "name": "python3"
  },
  "language_info": {
   "codemirror_mode": {
    "name": "ipython",
    "version": 3
   },
   "file_extension": ".py",
   "mimetype": "text/x-python",
   "name": "python",
   "nbconvert_exporter": "python",
   "pygments_lexer": "ipython3",
   "version": "3.7.5"
  }
 },
 "nbformat": 4,
 "nbformat_minor": 2
}
