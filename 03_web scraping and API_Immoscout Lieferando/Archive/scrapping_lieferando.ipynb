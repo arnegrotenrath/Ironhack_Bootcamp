{
 "cells": [
  {
   "cell_type": "markdown",
   "metadata": {},
   "source": [
    "## Scrapping Amount of Restaurants per Postcode"
   ]
  },
  {
   "cell_type": "code",
   "execution_count": 8,
   "metadata": {},
   "outputs": [],
   "source": [
    "%reset -f"
   ]
  },
  {
   "cell_type": "code",
   "execution_count": 9,
   "metadata": {},
   "outputs": [],
   "source": [
    "from library import lieferando as lf"
   ]
  },
  {
   "cell_type": "code",
   "execution_count": 10,
   "metadata": {},
   "outputs": [],
   "source": [
    "postcode_list = [10176,10177,10178,10179]"
   ]
  },
  {
   "cell_type": "code",
   "execution_count": 11,
   "metadata": {},
   "outputs": [],
   "source": [
    "df_n_restaurant = lf.get_n_restaurant(postcode_list.copy())"
   ]
  },
  {
   "cell_type": "code",
   "execution_count": 12,
   "metadata": {},
   "outputs": [
    {
     "data": {
      "text/html": [
       "<div>\n",
       "<style scoped>\n",
       "    .dataframe tbody tr th:only-of-type {\n",
       "        vertical-align: middle;\n",
       "    }\n",
       "\n",
       "    .dataframe tbody tr th {\n",
       "        vertical-align: top;\n",
       "    }\n",
       "\n",
       "    .dataframe thead th {\n",
       "        text-align: right;\n",
       "    }\n",
       "</style>\n",
       "<table border=\"1\" class=\"dataframe\">\n",
       "  <thead>\n",
       "    <tr style=\"text-align: right;\">\n",
       "      <th></th>\n",
       "      <th>postcode</th>\n",
       "      <th>n_restaurant</th>\n",
       "    </tr>\n",
       "  </thead>\n",
       "  <tbody>\n",
       "    <tr>\n",
       "      <th>0</th>\n",
       "      <td>10178</td>\n",
       "      <td>356</td>\n",
       "    </tr>\n",
       "    <tr>\n",
       "      <th>1</th>\n",
       "      <td>10179</td>\n",
       "      <td>351</td>\n",
       "    </tr>\n",
       "  </tbody>\n",
       "</table>\n",
       "</div>"
      ],
      "text/plain": [
       "   postcode  n_restaurant\n",
       "0     10178           356\n",
       "1     10179           351"
      ]
     },
     "execution_count": 12,
     "metadata": {},
     "output_type": "execute_result"
    }
   ],
   "source": [
    "df_n_restaurant"
   ]
  },
  {
   "cell_type": "markdown",
   "metadata": {},
   "source": [
    "## Scrapping other informations from lieferando.de"
   ]
  },
  {
   "cell_type": "code",
   "execution_count": 1,
   "metadata": {},
   "outputs": [],
   "source": [
    "%reset -f"
   ]
  },
  {
   "cell_type": "code",
   "execution_count": 2,
   "metadata": {},
   "outputs": [],
   "source": [
    "from library import lieferando as lf"
   ]
  },
  {
   "cell_type": "code",
   "execution_count": 3,
   "metadata": {},
   "outputs": [],
   "source": [
    "postcode_list = [10176,10177,10178,10179]"
   ]
  },
  {
   "cell_type": "code",
   "execution_count": 4,
   "metadata": {},
   "outputs": [],
   "source": [
    "teste = lf.get_restaurant_data(postcode_list)"
   ]
  },
  {
   "cell_type": "code",
   "execution_count": 5,
   "metadata": {},
   "outputs": [
    {
     "data": {
      "text/html": [
       "<div>\n",
       "<style scoped>\n",
       "    .dataframe tbody tr th:only-of-type {\n",
       "        vertical-align: middle;\n",
       "    }\n",
       "\n",
       "    .dataframe tbody tr th {\n",
       "        vertical-align: top;\n",
       "    }\n",
       "\n",
       "    .dataframe thead th {\n",
       "        text-align: right;\n",
       "    }\n",
       "</style>\n",
       "<table border=\"1\" class=\"dataframe\">\n",
       "  <thead>\n",
       "    <tr style=\"text-align: right;\">\n",
       "      <th></th>\n",
       "      <th>postcode</th>\n",
       "      <th>name</th>\n",
       "      <th>stars</th>\n",
       "      <th>ratings</th>\n",
       "      <th>min_price</th>\n",
       "      <th>categories</th>\n",
       "      <th>latitude</th>\n",
       "      <th>longitude</th>\n",
       "    </tr>\n",
       "  </thead>\n",
       "  <tbody>\n",
       "    <tr>\n",
       "      <th>0</th>\n",
       "      <td>10178</td>\n",
       "      <td>Boongsushi</td>\n",
       "      <td>10</td>\n",
       "      <td>13</td>\n",
       "      <td>15</td>\n",
       "      <td>[Sushi, Japanese, Seafood]</td>\n",
       "      <td>52.5166155</td>\n",
       "      <td>13.4637902</td>\n",
       "    </tr>\n",
       "    <tr>\n",
       "      <th>1</th>\n",
       "      <td>10178</td>\n",
       "      <td>Sushi For You</td>\n",
       "      <td>8</td>\n",
       "      <td>33</td>\n",
       "      <td>7</td>\n",
       "      <td>[Sushi, Japanese, Asian]</td>\n",
       "      <td>52.5067624</td>\n",
       "      <td>13.4137248</td>\n",
       "    </tr>\n",
       "    <tr>\n",
       "      <th>2</th>\n",
       "      <td>10178</td>\n",
       "      <td>Schmuck's Restauration</td>\n",
       "      <td>9</td>\n",
       "      <td>16</td>\n",
       "      <td>10</td>\n",
       "      <td>[German, German dishes, Salads]</td>\n",
       "      <td>52.5120669</td>\n",
       "      <td>13.4168464</td>\n",
       "    </tr>\n",
       "    <tr>\n",
       "      <th>3</th>\n",
       "      <td>10178</td>\n",
       "      <td>Besh</td>\n",
       "      <td>9</td>\n",
       "      <td>6</td>\n",
       "      <td>10</td>\n",
       "      <td>[Vegetarian, Arab, Poke bowl]</td>\n",
       "      <td>52.511513</td>\n",
       "      <td>13.416606</td>\n",
       "    </tr>\n",
       "    <tr>\n",
       "      <th>4</th>\n",
       "      <td>10178</td>\n",
       "      <td>Izumi Restaurant Sushi Bar</td>\n",
       "      <td>8</td>\n",
       "      <td>953</td>\n",
       "      <td>25</td>\n",
       "      <td>[Sushi]</td>\n",
       "      <td>52.5111789</td>\n",
       "      <td>13.3886504</td>\n",
       "    </tr>\n",
       "    <tr>\n",
       "      <th>...</th>\n",
       "      <td>...</td>\n",
       "      <td>...</td>\n",
       "      <td>...</td>\n",
       "      <td>...</td>\n",
       "      <td>...</td>\n",
       "      <td>...</td>\n",
       "      <td>...</td>\n",
       "      <td>...</td>\n",
       "    </tr>\n",
       "    <tr>\n",
       "      <th>702</th>\n",
       "      <td>10179</td>\n",
       "      <td>Citronella - Juice &amp; Smoothie Bar</td>\n",
       "      <td>7</td>\n",
       "      <td>5</td>\n",
       "      <td>10</td>\n",
       "      <td>[Bio, Drinks/Snacks, Sandwiches]</td>\n",
       "      <td>52.5008242</td>\n",
       "      <td>13.4397047</td>\n",
       "    </tr>\n",
       "    <tr>\n",
       "      <th>703</th>\n",
       "      <td>10179</td>\n",
       "      <td>Haweli Indisches Restaurant</td>\n",
       "      <td>7</td>\n",
       "      <td>124</td>\n",
       "      <td>45</td>\n",
       "      <td>[Indian, Chicken, Curry]</td>\n",
       "      <td>52.4471319</td>\n",
       "      <td>13.625489</td>\n",
       "    </tr>\n",
       "    <tr>\n",
       "      <th>704</th>\n",
       "      <td>10179</td>\n",
       "      <td>Kiyano Pizzeria</td>\n",
       "      <td>7</td>\n",
       "      <td>63</td>\n",
       "      <td>10</td>\n",
       "      <td>[Italian style pizza, Desserts, Ice cream]</td>\n",
       "      <td>52.5242979</td>\n",
       "      <td>13.4177983</td>\n",
       "    </tr>\n",
       "    <tr>\n",
       "      <th>705</th>\n",
       "      <td>10179</td>\n",
       "      <td>La Baraca</td>\n",
       "      <td>6</td>\n",
       "      <td>47</td>\n",
       "      <td>12</td>\n",
       "      <td>[Chicken, Balkans, Homemade]</td>\n",
       "      <td>52.5077221</td>\n",
       "      <td>13.4542457</td>\n",
       "    </tr>\n",
       "    <tr>\n",
       "      <th>706</th>\n",
       "      <td>10179</td>\n",
       "      <td>Black Sandwich and More</td>\n",
       "      <td>0</td>\n",
       "      <td>0</td>\n",
       "      <td>10</td>\n",
       "      <td>[Vegetarian, Burgers, Sandwiches]</td>\n",
       "      <td>52.4997045</td>\n",
       "      <td>13.4170335</td>\n",
       "    </tr>\n",
       "  </tbody>\n",
       "</table>\n",
       "<p>707 rows × 8 columns</p>\n",
       "</div>"
      ],
      "text/plain": [
       "     postcode                               name stars ratings min_price  \\\n",
       "0       10178                         Boongsushi    10      13        15   \n",
       "1       10178                      Sushi For You     8      33         7   \n",
       "2       10178             Schmuck's Restauration     9      16        10   \n",
       "3       10178                               Besh     9       6        10   \n",
       "4       10178         Izumi Restaurant Sushi Bar     8     953        25   \n",
       "..        ...                                ...   ...     ...       ...   \n",
       "702     10179  Citronella - Juice & Smoothie Bar     7       5        10   \n",
       "703     10179        Haweli Indisches Restaurant     7     124        45   \n",
       "704     10179                    Kiyano Pizzeria     7      63        10   \n",
       "705     10179                          La Baraca     6      47        12   \n",
       "706     10179            Black Sandwich and More     0       0        10   \n",
       "\n",
       "                                     categories    latitude   longitude  \n",
       "0                    [Sushi, Japanese, Seafood]  52.5166155  13.4637902  \n",
       "1                      [Sushi, Japanese, Asian]  52.5067624  13.4137248  \n",
       "2               [German, German dishes, Salads]  52.5120669  13.4168464  \n",
       "3                 [Vegetarian, Arab, Poke bowl]   52.511513   13.416606  \n",
       "4                                       [Sushi]  52.5111789  13.3886504  \n",
       "..                                          ...         ...         ...  \n",
       "702            [Bio, Drinks/Snacks, Sandwiches]  52.5008242  13.4397047  \n",
       "703                    [Indian, Chicken, Curry]  52.4471319   13.625489  \n",
       "704  [Italian style pizza, Desserts, Ice cream]  52.5242979  13.4177983  \n",
       "705                [Chicken, Balkans, Homemade]  52.5077221  13.4542457  \n",
       "706           [Vegetarian, Burgers, Sandwiches]  52.4997045  13.4170335  \n",
       "\n",
       "[707 rows x 8 columns]"
      ]
     },
     "execution_count": 5,
     "metadata": {},
     "output_type": "execute_result"
    }
   ],
   "source": [
    "teste"
   ]
  }
 ],
 "metadata": {
  "file_extension": ".py",
  "kernelspec": {
   "display_name": "Python 3",
   "language": "python",
   "name": "python3"
  },
  "language_info": {
   "codemirror_mode": {
    "name": "ipython",
    "version": 3
   },
   "file_extension": ".py",
   "mimetype": "text/x-python",
   "name": "python",
   "nbconvert_exporter": "python",
   "pygments_lexer": "ipython3",
   "version": "3.7.5"
  },
  "mimetype": "text/x-python",
  "name": "python",
  "npconvert_exporter": "python",
  "pygments_lexer": "ipython3",
  "version": 3
 },
 "nbformat": 4,
 "nbformat_minor": 2
}
