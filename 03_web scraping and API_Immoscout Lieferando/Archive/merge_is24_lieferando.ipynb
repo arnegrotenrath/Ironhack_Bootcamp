{
 "nbformat": 4,
 "nbformat_minor": 2,
 "metadata": {
  "language_info": {
   "name": "python",
   "codemirror_mode": {
    "name": "ipython",
    "version": 3
   },
   "version": "3.7.6-final"
  },
  "orig_nbformat": 2,
  "file_extension": ".py",
  "mimetype": "text/x-python",
  "name": "python",
  "npconvert_exporter": "python",
  "pygments_lexer": "ipython3",
  "version": 3,
  "kernelspec": {
   "name": "python37664bitcoderedconda693c8a623b8d44c8a58a234a9205c665",
   "display_name": "Python 3.7.6 64-bit ('code_red': conda)"
  }
 },
 "cells": [
  {
   "cell_type": "code",
   "execution_count": 1,
   "metadata": {},
   "outputs": [],
   "source": [
    "%reset -f"
   ]
  },
  {
   "cell_type": "code",
   "execution_count": 2,
   "metadata": {},
   "outputs": [],
   "source": [
    "import pandas as pd\n",
    "from library import lieferando as lf"
   ]
  },
  {
   "cell_type": "code",
   "execution_count": 4,
   "metadata": {},
   "outputs": [],
   "source": [
    "df_real_estate = pd.read_csv(\"20200123_apts_buy_berlin_v0.4_CB.csv\", sep=\";\")"
   ]
  },
  {
   "cell_type": "code",
   "execution_count": 5,
   "metadata": {},
   "outputs": [],
   "source": [
    "df_n_restaurant = pd.read_csv(\"n_restaurant.csv\") "
   ]
  },
  {
   "cell_type": "code",
   "execution_count": 15,
   "metadata": {},
   "outputs": [],
   "source": [
    "# Merge main dataframe with activity cleaned\n",
    "df_real_estate_n_rest = pd.merge(df_real_estate, df_n_restaurant[[\"postcode\",\"n_restaurant\"]], how=\"left\", on=\"postcode\")"
   ]
  },
  {
   "cell_type": "code",
   "execution_count": 19,
   "metadata": {},
   "outputs": [
    {
     "data": {
      "text/html": "<div>\n<style scoped>\n    .dataframe tbody tr th:only-of-type {\n        vertical-align: middle;\n    }\n\n    .dataframe tbody tr th {\n        vertical-align: top;\n    }\n\n    .dataframe thead th {\n        text-align: right;\n    }\n</style>\n<table border=\"1\" class=\"dataframe\">\n  <thead>\n    <tr style=\"text-align: right;\">\n      <th></th>\n      <th>Unnamed: 0</th>\n      <th>id</th>\n      <th>title</th>\n      <th>city</th>\n      <th>quarter</th>\n      <th>postcode</th>\n      <th>street</th>\n      <th>houseNo</th>\n      <th>price</th>\n      <th>qm</th>\n      <th>n_room</th>\n      <th>latitude</th>\n      <th>longitude</th>\n      <th>privateOffer</th>\n      <th>marketingType</th>\n      <th>hasCourtage</th>\n      <th>n_page_is24</th>\n      <th>price_per_qm</th>\n      <th>n_restaurant</th>\n    </tr>\n  </thead>\n  <tbody>\n    <tr>\n      <th>0</th>\n      <td>0</td>\n      <td>114366270</td>\n      <td>Altersgerechtes Wohnen im Viktoria Quartier! 2...</td>\n      <td>Berlin</td>\n      <td>Kreuzberg (Kreuzberg)</td>\n      <td>10965</td>\n      <td>NaN</td>\n      <td>NaN</td>\n      <td>398000.0</td>\n      <td>66.00</td>\n      <td>2.0</td>\n      <td>NaN</td>\n      <td>NaN</td>\n      <td>False</td>\n      <td>PURCHASE</td>\n      <td>YES</td>\n      <td>1</td>\n      <td>6030.3</td>\n      <td>261.0</td>\n    </tr>\n    <tr>\n      <th>1</th>\n      <td>1</td>\n      <td>115294582</td>\n      <td>EXKLUSIVE NEUBAU-WOHNUNG \\nIN RUHIGER KU´DAMM-...</td>\n      <td>Berlin</td>\n      <td>Wilmersdorf (Wilmersdorf)</td>\n      <td>10711</td>\n      <td>NaN</td>\n      <td>NaN</td>\n      <td>770000.0</td>\n      <td>96.59</td>\n      <td>3.0</td>\n      <td>NaN</td>\n      <td>NaN</td>\n      <td>False</td>\n      <td>PURCHASE</td>\n      <td>YES</td>\n      <td>1</td>\n      <td>7971.8</td>\n      <td>220.0</td>\n    </tr>\n    <tr>\n      <th>2</th>\n      <td>2</td>\n      <td>114579519</td>\n      <td>Wohnen am Bergmannkiez: Moderne 2-Zimmer-Wohnu...</td>\n      <td>Berlin</td>\n      <td>Kreuzberg (Kreuzberg)</td>\n      <td>10961</td>\n      <td>Baruther Straße</td>\n      <td>5</td>\n      <td>352000.0</td>\n      <td>61.80</td>\n      <td>2.0</td>\n      <td>52.49401</td>\n      <td>13.38979</td>\n      <td>False</td>\n      <td>PURCHASE</td>\n      <td>NO</td>\n      <td>1</td>\n      <td>5695.8</td>\n      <td>237.0</td>\n    </tr>\n    <tr>\n      <th>3</th>\n      <td>3</td>\n      <td>114579517</td>\n      <td>Wohnen im Neubau: Moderne 2-Zimmer-Wohnung mit...</td>\n      <td>Berlin</td>\n      <td>Kreuzberg (Kreuzberg)</td>\n      <td>10961</td>\n      <td>Baruther Straße</td>\n      <td>5</td>\n      <td>407000.0</td>\n      <td>51.42</td>\n      <td>2.0</td>\n      <td>52.49401</td>\n      <td>13.38979</td>\n      <td>False</td>\n      <td>PURCHASE</td>\n      <td>NO</td>\n      <td>1</td>\n      <td>7915.2</td>\n      <td>237.0</td>\n    </tr>\n    <tr>\n      <th>4</th>\n      <td>4</td>\n      <td>114579516</td>\n      <td>Großes Schlafzimmer und Loggia: Gemütliche 2-Z...</td>\n      <td>Berlin</td>\n      <td>Kreuzberg (Kreuzberg)</td>\n      <td>10961</td>\n      <td>Baruther Straße</td>\n      <td>5</td>\n      <td>410000.0</td>\n      <td>59.34</td>\n      <td>2.0</td>\n      <td>52.49401</td>\n      <td>13.38979</td>\n      <td>False</td>\n      <td>PURCHASE</td>\n      <td>NO</td>\n      <td>1</td>\n      <td>6909.3</td>\n      <td>237.0</td>\n    </tr>\n    <tr>\n      <th>...</th>\n      <td>...</td>\n      <td>...</td>\n      <td>...</td>\n      <td>...</td>\n      <td>...</td>\n      <td>...</td>\n      <td>...</td>\n      <td>...</td>\n      <td>...</td>\n      <td>...</td>\n      <td>...</td>\n      <td>...</td>\n      <td>...</td>\n      <td>...</td>\n      <td>...</td>\n      <td>...</td>\n      <td>...</td>\n      <td>...</td>\n      <td>...</td>\n    </tr>\n    <tr>\n      <th>6750</th>\n      <td>6750</td>\n      <td>65847901</td>\n      <td>Penthouse-Wohnung auf historischem Altbau!</td>\n      <td>Berlin</td>\n      <td>Schöneberg (Schöneberg)</td>\n      <td>10852</td>\n      <td>Heylstrasse</td>\n      <td>29</td>\n      <td>580000.0</td>\n      <td>213.00</td>\n      <td>5.0</td>\n      <td>NaN</td>\n      <td>NaN</td>\n      <td>False</td>\n      <td>PURCHASE</td>\n      <td>YES</td>\n      <td>338</td>\n      <td>2723.0</td>\n      <td>NaN</td>\n    </tr>\n    <tr>\n      <th>6751</th>\n      <td>6751</td>\n      <td>57228501</td>\n      <td>Schöne moderne Eigentumswohnung mit Balkon ***...</td>\n      <td>Berlin</td>\n      <td>Heiligensee (Reinickendorf)</td>\n      <td>13503</td>\n      <td>NaN</td>\n      <td>NaN</td>\n      <td>349000.0</td>\n      <td>66.00</td>\n      <td>2.0</td>\n      <td>NaN</td>\n      <td>NaN</td>\n      <td>True</td>\n      <td>PURCHASE</td>\n      <td>NO</td>\n      <td>338</td>\n      <td>5287.9</td>\n      <td>41.0</td>\n    </tr>\n    <tr>\n      <th>6752</th>\n      <td>6752</td>\n      <td>51875348</td>\n      <td>Schöne, ruhige und helle 2 Zimmer Wohnung für ...</td>\n      <td>Berlin</td>\n      <td>Reinickendorf (Reinickendorf)</td>\n      <td>13407</td>\n      <td>NaN</td>\n      <td>NaN</td>\n      <td>130000.0</td>\n      <td>60.00</td>\n      <td>2.0</td>\n      <td>NaN</td>\n      <td>NaN</td>\n      <td>True</td>\n      <td>PURCHASE</td>\n      <td>NO</td>\n      <td>338</td>\n      <td>2166.7</td>\n      <td>120.0</td>\n    </tr>\n    <tr>\n      <th>6753</th>\n      <td>6753</td>\n      <td>48238869</td>\n      <td>City Loft , nähe Friedrichshain , KEINE MAKLER...</td>\n      <td>Berlin</td>\n      <td>Lichtenberg (Lichtenberg)</td>\n      <td>10365</td>\n      <td>Siegfriedstr.</td>\n      <td>204</td>\n      <td>599000.0</td>\n      <td>125.00</td>\n      <td>2.0</td>\n      <td>52.51461</td>\n      <td>13.49685</td>\n      <td>True</td>\n      <td>PURCHASE</td>\n      <td>NO</td>\n      <td>338</td>\n      <td>4792.0</td>\n      <td>114.0</td>\n    </tr>\n    <tr>\n      <th>6754</th>\n      <td>6754</td>\n      <td>41382802</td>\n      <td>Berlin Regierungsviertel: Luxuriöse Wohnung mi...</td>\n      <td>Berlin</td>\n      <td>Mitte (Mitte)</td>\n      <td>10117</td>\n      <td>Hannover'sche Straße</td>\n      <td>20</td>\n      <td>479000.0</td>\n      <td>48.40</td>\n      <td>2.5</td>\n      <td>52.52758</td>\n      <td>13.38031</td>\n      <td>True</td>\n      <td>PURCHASE</td>\n      <td>NO</td>\n      <td>338</td>\n      <td>9896.7</td>\n      <td>325.0</td>\n    </tr>\n  </tbody>\n</table>\n<p>6755 rows × 19 columns</p>\n</div>",
      "text/plain": "      Unnamed: 0         id  \\\n0              0  114366270   \n1              1  115294582   \n2              2  114579519   \n3              3  114579517   \n4              4  114579516   \n...          ...        ...   \n6750        6750   65847901   \n6751        6751   57228501   \n6752        6752   51875348   \n6753        6753   48238869   \n6754        6754   41382802   \n\n                                                  title    city  \\\n0     Altersgerechtes Wohnen im Viktoria Quartier! 2...  Berlin   \n1     EXKLUSIVE NEUBAU-WOHNUNG \\nIN RUHIGER KU´DAMM-...  Berlin   \n2     Wohnen am Bergmannkiez: Moderne 2-Zimmer-Wohnu...  Berlin   \n3     Wohnen im Neubau: Moderne 2-Zimmer-Wohnung mit...  Berlin   \n4     Großes Schlafzimmer und Loggia: Gemütliche 2-Z...  Berlin   \n...                                                 ...     ...   \n6750         Penthouse-Wohnung auf historischem Altbau!  Berlin   \n6751  Schöne moderne Eigentumswohnung mit Balkon ***...  Berlin   \n6752  Schöne, ruhige und helle 2 Zimmer Wohnung für ...  Berlin   \n6753  City Loft , nähe Friedrichshain , KEINE MAKLER...  Berlin   \n6754  Berlin Regierungsviertel: Luxuriöse Wohnung mi...  Berlin   \n\n                            quarter  postcode                street houseNo  \\\n0             Kreuzberg (Kreuzberg)     10965                   NaN     NaN   \n1         Wilmersdorf (Wilmersdorf)     10711                   NaN     NaN   \n2             Kreuzberg (Kreuzberg)     10961       Baruther Straße       5   \n3             Kreuzberg (Kreuzberg)     10961       Baruther Straße       5   \n4             Kreuzberg (Kreuzberg)     10961       Baruther Straße       5   \n...                             ...       ...                   ...     ...   \n6750        Schöneberg (Schöneberg)     10852           Heylstrasse      29   \n6751    Heiligensee (Reinickendorf)     13503                   NaN     NaN   \n6752  Reinickendorf (Reinickendorf)     13407                   NaN     NaN   \n6753      Lichtenberg (Lichtenberg)     10365         Siegfriedstr.     204   \n6754                  Mitte (Mitte)     10117  Hannover'sche Straße      20   \n\n         price      qm  n_room  latitude  longitude  privateOffer  \\\n0     398000.0   66.00     2.0       NaN        NaN         False   \n1     770000.0   96.59     3.0       NaN        NaN         False   \n2     352000.0   61.80     2.0  52.49401   13.38979         False   \n3     407000.0   51.42     2.0  52.49401   13.38979         False   \n4     410000.0   59.34     2.0  52.49401   13.38979         False   \n...        ...     ...     ...       ...        ...           ...   \n6750  580000.0  213.00     5.0       NaN        NaN         False   \n6751  349000.0   66.00     2.0       NaN        NaN          True   \n6752  130000.0   60.00     2.0       NaN        NaN          True   \n6753  599000.0  125.00     2.0  52.51461   13.49685          True   \n6754  479000.0   48.40     2.5  52.52758   13.38031          True   \n\n     marketingType hasCourtage  n_page_is24  price_per_qm  n_restaurant  \n0         PURCHASE         YES            1        6030.3         261.0  \n1         PURCHASE         YES            1        7971.8         220.0  \n2         PURCHASE          NO            1        5695.8         237.0  \n3         PURCHASE          NO            1        7915.2         237.0  \n4         PURCHASE          NO            1        6909.3         237.0  \n...            ...         ...          ...           ...           ...  \n6750      PURCHASE         YES          338        2723.0           NaN  \n6751      PURCHASE          NO          338        5287.9          41.0  \n6752      PURCHASE          NO          338        2166.7         120.0  \n6753      PURCHASE          NO          338        4792.0         114.0  \n6754      PURCHASE          NO          338        9896.7         325.0  \n\n[6755 rows x 19 columns]"
     },
     "execution_count": 19,
     "metadata": {},
     "output_type": "execute_result"
    }
   ],
   "source": [
    "df_real_estate_n_rest"
   ]
  },
  {
   "source": [
    "df_n_restaurant.to_csv(\"20200124_merged_data.csv\")"
   ],
   "cell_type": "code",
   "outputs": [],
   "metadata": {},
   "execution_count": 24
  }
 ]
}